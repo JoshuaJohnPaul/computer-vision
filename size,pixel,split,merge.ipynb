{
 "cells": [
  {
   "cell_type": "code",
   "execution_count": 10,
   "id": "7461d98d",
   "metadata": {},
   "outputs": [],
   "source": [
    "import cv2\n",
    "import numpy as np"
   ]
  },
  {
   "cell_type": "code",
   "execution_count": 2,
   "id": "f0f01f96",
   "metadata": {},
   "outputs": [],
   "source": [
    "img=cv2.imread(\"ff.jpg\")"
   ]
  },
  {
   "cell_type": "code",
   "execution_count": 3,
   "id": "f5232e45",
   "metadata": {},
   "outputs": [],
   "source": [
    "grey=cv2.imread(\"C:/Users/SN154/Downloads/ff.jpg\",0)\n"
   ]
  },
  {
   "cell_type": "code",
   "execution_count": 12,
   "id": "50847ab3",
   "metadata": {},
   "outputs": [],
   "source": [
    "\n",
    "cv2.imshow(\"grey\",grey)\n",
    "cv2.imshow(\"image\",img)\n",
    "cv2.waitKey(0)\n",
    "cv2.destroyAllWindows()"
   ]
  },
  {
   "cell_type": "code",
   "execution_count": 5,
   "id": "6c90ced6",
   "metadata": {},
   "outputs": [
    {
     "data": {
      "text/plain": [
       "True"
      ]
     },
     "execution_count": 5,
     "metadata": {},
     "output_type": "execute_result"
    }
   ],
   "source": [
    "#grey=cv2.imread(\"C:/Users/SN154/Downloads/re.jpg\",0)\n",
    "cv2.imwrite(\"C:/Users/SN154/Downloads/joe.jpg\",grey)"
   ]
  },
  {
   "cell_type": "code",
   "execution_count": 6,
   "id": "12101c0b",
   "metadata": {},
   "outputs": [
    {
     "name": "stdout",
     "output_type": "stream",
     "text": [
      "(1440, 1920)\n"
     ]
    }
   ],
   "source": [
    "s=grey.shape\n",
    "print(s)"
   ]
  },
  {
   "cell_type": "code",
   "execution_count": 7,
   "id": "5d71f88f",
   "metadata": {},
   "outputs": [
    {
     "name": "stdout",
     "output_type": "stream",
     "text": [
      "8294400\n"
     ]
    }
   ],
   "source": [
    "siz=img.size\n",
    "print(siz)"
   ]
  },
  {
   "cell_type": "code",
   "execution_count": 8,
   "id": "c18c13f4",
   "metadata": {},
   "outputs": [],
   "source": [
    "px=img[20,10]"
   ]
  },
  {
   "cell_type": "code",
   "execution_count": 9,
   "id": "29a5bc3a",
   "metadata": {},
   "outputs": [
    {
     "name": "stdout",
     "output_type": "stream",
     "text": [
      "[ 5 64 13]\n"
     ]
    }
   ],
   "source": [
    "print(px)"
   ]
  },
  {
   "cell_type": "code",
   "execution_count": 13,
   "id": "a08602ec",
   "metadata": {},
   "outputs": [
    {
     "name": "stdout",
     "output_type": "stream",
     "text": [
      "[  9 107  41]\n"
     ]
    }
   ],
   "source": [
    "print(img[77,12])"
   ]
  },
  {
   "cell_type": "code",
   "execution_count": 14,
   "id": "37cf35e6",
   "metadata": {},
   "outputs": [],
   "source": [
    "b,g,r=cv2.split(img)"
   ]
  },
  {
   "cell_type": "code",
   "execution_count": 18,
   "id": "40ef8b8f",
   "metadata": {},
   "outputs": [
    {
     "data": {
      "text/plain": [
       "-1"
      ]
     },
     "execution_count": 18,
     "metadata": {},
     "output_type": "execute_result"
    }
   ],
   "source": [
    "cv2.imshow(\"b\",b)\n",
    "cv2.waitKey(0)\n",
    "cv2.imshow(\"g\",g)\n",
    "cv2.waitKey(0)\n",
    "cv2.imshow(\"r\",r)\n",
    "cv2.waitKey(0)"
   ]
  },
  {
   "cell_type": "code",
   "execution_count": 23,
   "id": "5ea17ffe",
   "metadata": {},
   "outputs": [],
   "source": [
    "mer=cv2.merge((b,g,r))\n",
    "cv2.imshow(\"merge\",mer)\n",
    "cv2.waitKey(0)\n",
    "cv2.destroyAllWindows()"
   ]
  },
  {
   "cell_type": "code",
   "execution_count": null,
   "id": "87bd4540",
   "metadata": {},
   "outputs": [],
   "source": []
  }
 ],
 "metadata": {
  "kernelspec": {
   "display_name": "Python 3 (ipykernel)",
   "language": "python",
   "name": "python3"
  },
  "language_info": {
   "codemirror_mode": {
    "name": "ipython",
    "version": 3
   },
   "file_extension": ".py",
   "mimetype": "text/x-python",
   "name": "python",
   "nbconvert_exporter": "python",
   "pygments_lexer": "ipython3",
   "version": "3.9.16"
  }
 },
 "nbformat": 4,
 "nbformat_minor": 5
}

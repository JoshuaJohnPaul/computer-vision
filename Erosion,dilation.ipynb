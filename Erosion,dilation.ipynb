{
 "cells": [
  {
   "cell_type": "code",
   "execution_count": 2,
   "id": "bfb3f641",
   "metadata": {},
   "outputs": [],
   "source": [
    "import cv2\n",
    "import numpy as n\n",
    "\n",
    "img=cv2.imread(\"Z.jpg\",0)\n",
    "\n",
    "\n",
    "\n"
   ]
  },
  {
   "cell_type": "markdown",
   "id": "3914ede8",
   "metadata": {},
   "source": [
    "# structure element or kernel"
   ]
  },
  {
   "cell_type": "code",
   "execution_count": 3,
   "id": "e71b4979",
   "metadata": {},
   "outputs": [],
   "source": [
    "kernel = n.ones((3,3),n.uint8)"
   ]
  },
  {
   "cell_type": "markdown",
   "id": "07957cca",
   "metadata": {},
   "source": [
    "# Erosion and dilation\n"
   ]
  },
  {
   "cell_type": "code",
   "execution_count": 7,
   "id": "a4ab2cf2",
   "metadata": {},
   "outputs": [],
   "source": [
    "erosion=cv2.erode(img,kernel,iterations=7)\n",
    "dil=cv2.dilate(img,kernel,iterations=7)\n"
   ]
  },
  {
   "cell_type": "markdown",
   "id": "1da8ac41",
   "metadata": {},
   "source": [
    "# Display Erosion and dilation"
   ]
  },
  {
   "cell_type": "code",
   "execution_count": null,
   "id": "c4bb1674",
   "metadata": {},
   "outputs": [],
   "source": [
    "cv2.imshow(\"Erosion\",erosion)\n",
    "cv2.imshow('ORGINAL',img)\n",
    "cv2.imshow(\"Dil\",dil)\n",
    "cv2.waitKey(0)\n",
    "cv2.destroyAllWindows()"
   ]
  },
  {
   "cell_type": "code",
   "execution_count": null,
   "id": "9a65ff63",
   "metadata": {},
   "outputs": [],
   "source": []
  }
 ],
 "metadata": {
  "kernelspec": {
   "display_name": "Python 3 (ipykernel)",
   "language": "python",
   "name": "python3"
  },
  "language_info": {
   "codemirror_mode": {
    "name": "ipython",
    "version": 3
   },
   "file_extension": ".py",
   "mimetype": "text/x-python",
   "name": "python",
   "nbconvert_exporter": "python",
   "pygments_lexer": "ipython3",
   "version": "3.9.13"
  }
 },
 "nbformat": 4,
 "nbformat_minor": 5
}

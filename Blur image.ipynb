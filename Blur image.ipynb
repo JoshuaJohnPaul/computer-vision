{
 "cells": [
  {
   "cell_type": "code",
   "execution_count": 55,
   "id": "d0807ce5",
   "metadata": {},
   "outputs": [],
   "source": [
    "import cv2\n",
    "import numpy as n"
   ]
  },
  {
   "cell_type": "code",
   "execution_count": 2,
   "id": "b13433e9",
   "metadata": {},
   "outputs": [],
   "source": [
    "img=cv2.imread(\"blur.jpg\")"
   ]
  },
  {
   "cell_type": "code",
   "execution_count": 3,
   "id": "4377b5c9",
   "metadata": {},
   "outputs": [
    {
     "name": "stdout",
     "output_type": "stream",
     "text": [
      "(314, 474, 3)\n"
     ]
    }
   ],
   "source": [
    "print(img.shape)"
   ]
  },
  {
   "cell_type": "code",
   "execution_count": 45,
   "id": "d2bf45c5",
   "metadata": {},
   "outputs": [],
   "source": [
    "img_res=cv2.resize(img,None,fx=2,fy=2,interpolation=cv2.INTER_LINEAR)"
   ]
  },
  {
   "cell_type": "code",
   "execution_count": 46,
   "id": "1ec658a9",
   "metadata": {},
   "outputs": [
    {
     "data": {
      "text/plain": [
       "-1"
      ]
     },
     "execution_count": 46,
     "metadata": {},
     "output_type": "execute_result"
    }
   ],
   "source": [
    "cv2.imshow(\"Img\",img_res)\n",
    "cv2.waitKey(0)"
   ]
  },
  {
   "cell_type": "code",
   "execution_count": 19,
   "id": "41c8c2c6",
   "metadata": {
    "scrolled": false
   },
   "outputs": [
    {
     "name": "stdout",
     "output_type": "stream",
     "text": [
      "(942, 474, 3)\n"
     ]
    }
   ],
   "source": [
    "print(img_res.shape)"
   ]
  },
  {
   "cell_type": "code",
   "execution_count": 47,
   "id": "d506c023",
   "metadata": {},
   "outputs": [],
   "source": [
    "img_cube=cv2.resize(img,None,fx=2,fy=2,interpolation=cv2.INTER_CUBIC)"
   ]
  },
  {
   "cell_type": "code",
   "execution_count": 48,
   "id": "dec413df",
   "metadata": {},
   "outputs": [
    {
     "data": {
      "text/plain": [
       "-1"
      ]
     },
     "execution_count": 48,
     "metadata": {},
     "output_type": "execute_result"
    }
   ],
   "source": [
    "cv2.imshow(\"cube\",img_cube)\n",
    "cv2.waitKey(0)"
   ]
  },
  {
   "cell_type": "code",
   "execution_count": 26,
   "id": "70183e69",
   "metadata": {},
   "outputs": [
    {
     "name": "stdout",
     "output_type": "stream",
     "text": [
      "(628, 948, 3)\n"
     ]
    }
   ],
   "source": [
    "print(img_cube.shape)"
   ]
  },
  {
   "cell_type": "code",
   "execution_count": 49,
   "id": "1b455d4f",
   "metadata": {},
   "outputs": [],
   "source": [
    "img_area=cv2.resize(img,None,fx=2,fy=2,interpolation=cv2.INTER_AREA)"
   ]
  },
  {
   "cell_type": "code",
   "execution_count": 50,
   "id": "adf5554d",
   "metadata": {},
   "outputs": [
    {
     "data": {
      "text/plain": [
       "-1"
      ]
     },
     "execution_count": 50,
     "metadata": {},
     "output_type": "execute_result"
    }
   ],
   "source": [
    "cv2.imshow(\"area\",img_area)\n",
    "cv2.waitKey(0)"
   ]
  },
  {
   "cell_type": "code",
   "execution_count": 36,
   "id": "0d0afb9f",
   "metadata": {},
   "outputs": [
    {
     "name": "stdout",
     "output_type": "stream",
     "text": [
      "(628, 948, 3)\n"
     ]
    }
   ],
   "source": [
    "print(img_area.shape)"
   ]
  },
  {
   "cell_type": "code",
   "execution_count": 54,
   "id": "438eceb0",
   "metadata": {},
   "outputs": [
    {
     "data": {
      "text/plain": [
       "True"
      ]
     },
     "execution_count": 54,
     "metadata": {},
     "output_type": "execute_result"
    }
   ],
   "source": [
    "cv2.imwrite(\"C:/Users/SN154/Downloads/A.jpg\",img_res)"
   ]
  },
  {
   "cell_type": "markdown",
   "id": "c2dd6697",
   "metadata": {},
   "source": [
    "# iMAGE SMOOTING-2D conversion"
   ]
  },
  {
   "cell_type": "markdown",
   "id": "a9762039",
   "metadata": {},
   "source": [
    "# kerenel"
   ]
  },
  {
   "cell_type": "code",
   "execution_count": 70,
   "id": "05f9f15b",
   "metadata": {},
   "outputs": [],
   "source": [
    "kernel=n.ones((4,4),float)/16"
   ]
  },
  {
   "cell_type": "code",
   "execution_count": 73,
   "id": "8bc94323",
   "metadata": {},
   "outputs": [],
   "source": [
    "tdf=cv2.filter2D(img,-1,kernel)"
   ]
  },
  {
   "cell_type": "code",
   "execution_count": 74,
   "id": "7b526cd2",
   "metadata": {},
   "outputs": [
    {
     "data": {
      "text/plain": [
       "-1"
      ]
     },
     "execution_count": 74,
     "metadata": {},
     "output_type": "execute_result"
    }
   ],
   "source": [
    "cv2.imshow(\"Image\",img)\n",
    "cv2.waitKey(0)\n",
    "cv2.imshow(\"2Dfilter\",tdf)\n",
    "cv2.waitKey(0)"
   ]
  },
  {
   "cell_type": "markdown",
   "id": "5c863159",
   "metadata": {},
   "source": [
    "# image blur averaging"
   ]
  },
  {
   "cell_type": "code",
   "execution_count": 81,
   "id": "c32e615f",
   "metadata": {},
   "outputs": [],
   "source": [
    "avg=cv2.blur(img,(10,10))"
   ]
  },
  {
   "cell_type": "code",
   "execution_count": 82,
   "id": "0505c5f5",
   "metadata": {},
   "outputs": [
    {
     "data": {
      "text/plain": [
       "-1"
      ]
     },
     "execution_count": 82,
     "metadata": {},
     "output_type": "execute_result"
    }
   ],
   "source": [
    "cv2.imshow(\"IMG\",img)\n",
    "cv2.waitKey(0)\n",
    "cv2.imshow(\"AVG\",avg)\n",
    "cv2.waitKey(0)"
   ]
  },
  {
   "cell_type": "markdown",
   "id": "4e83cd74",
   "metadata": {},
   "source": [
    "# image-Bluring Gaussian Filter"
   ]
  },
  {
   "cell_type": "code",
   "execution_count": 90,
   "id": "385a0841",
   "metadata": {},
   "outputs": [],
   "source": [
    "gauss=cv2.GaussianBlur(img,(3,3),10)"
   ]
  },
  {
   "cell_type": "code",
   "execution_count": 91,
   "id": "09d1e938",
   "metadata": {},
   "outputs": [
    {
     "data": {
      "text/plain": [
       "-1"
      ]
     },
     "execution_count": 91,
     "metadata": {},
     "output_type": "execute_result"
    }
   ],
   "source": [
    "cv2.imshow(\"I\",img)\n",
    "cv2.waitKey(0)\n",
    "cv2.imshow(\"gauss\",gauss)\n",
    "cv2.waitKey(0)"
   ]
  },
  {
   "cell_type": "code",
   "execution_count": null,
   "id": "d74040db",
   "metadata": {},
   "outputs": [],
   "source": []
  }
 ],
 "metadata": {
  "kernelspec": {
   "display_name": "Python 3 (ipykernel)",
   "language": "python",
   "name": "python3"
  },
  "language_info": {
   "codemirror_mode": {
    "name": "ipython",
    "version": 3
   },
   "file_extension": ".py",
   "mimetype": "text/x-python",
   "name": "python",
   "nbconvert_exporter": "python",
   "pygments_lexer": "ipython3",
   "version": "3.9.16"
  }
 },
 "nbformat": 4,
 "nbformat_minor": 5
}

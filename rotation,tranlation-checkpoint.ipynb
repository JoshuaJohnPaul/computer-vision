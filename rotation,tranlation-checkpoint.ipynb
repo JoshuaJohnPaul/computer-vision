{
 "cells": [
  {
   "cell_type": "markdown",
   "id": "cc041913",
   "metadata": {},
   "source": [
    "# ROTATION"
   ]
  },
  {
   "cell_type": "code",
   "execution_count": 1,
   "id": "0027fb6d",
   "metadata": {},
   "outputs": [],
   "source": [
    "import cv2\n",
    "import numpy as n"
   ]
  },
  {
   "cell_type": "code",
   "execution_count": 38,
   "id": "92e2e950",
   "metadata": {},
   "outputs": [],
   "source": [
    "image = cv2.imread(\"resize.jpeg\")"
   ]
  },
  {
   "cell_type": "code",
   "execution_count": 39,
   "id": "1ed211f4",
   "metadata": {},
   "outputs": [
    {
     "data": {
      "text/plain": [
       "-1"
      ]
     },
     "execution_count": 39,
     "metadata": {},
     "output_type": "execute_result"
    }
   ],
   "source": [
    "cv2.imshow(\"img\",image)\n",
    "cv2.waitKey(0)"
   ]
  },
  {
   "cell_type": "code",
   "execution_count": 40,
   "id": "91dde2e5",
   "metadata": {},
   "outputs": [
    {
     "name": "stdout",
     "output_type": "stream",
     "text": [
      "(296, 474, 3)\n",
      "296\n",
      "474\n"
     ]
    }
   ],
   "source": [
    "shape=image.shape\n",
    "print(shape)\n",
    "height,width=image.shape[:2]\n",
    "print(height)\n",
    "print(width)"
   ]
  },
  {
   "cell_type": "code",
   "execution_count": 41,
   "id": "bc8379ae",
   "metadata": {},
   "outputs": [
    {
     "name": "stdout",
     "output_type": "stream",
     "text": [
      "(148.0, 237.0)\n"
     ]
    }
   ],
   "source": [
    "center = (height/2,width/2)\n",
    "print(center)"
   ]
  },
  {
   "cell_type": "code",
   "execution_count": 44,
   "id": "d0567e37",
   "metadata": {},
   "outputs": [
    {
     "name": "stdout",
     "output_type": "stream",
     "text": [
      "[[ 3.061617e-17  5.000000e-01  2.950000e+01]\n",
      " [-5.000000e-01  3.061617e-17  3.110000e+02]]\n"
     ]
    }
   ],
   "source": [
    "row_matrix=cv2.getRotationMatrix2D(center=center,angle=90,scale=0.5)\n",
    "print(row_matrix)"
   ]
  },
  {
   "cell_type": "code",
   "execution_count": 45,
   "id": "fc17c4f4",
   "metadata": {},
   "outputs": [
    {
     "data": {
      "text/plain": [
       "-1"
      ]
     },
     "execution_count": 45,
     "metadata": {},
     "output_type": "execute_result"
    }
   ],
   "source": [
    "rotate_image=cv2.warpAffine(src=image,M=row_matrix,dsize=(width,height))\n",
    "cv2.imshow(\"orginal img\",image)\n",
    "cv2.waitKey(0)\n",
    "cv2.imshow(\"rotated image\",rotate_image)\n",
    "cv2.waitKey(0)"
   ]
  },
  {
   "cell_type": "markdown",
   "id": "50d16101",
   "metadata": {},
   "source": [
    "# TANSLATION"
   ]
  },
  {
   "cell_type": "code",
   "execution_count": 46,
   "id": "e4a5ea1c",
   "metadata": {},
   "outputs": [],
   "source": [
    "tx,ty=width/100,height/100"
   ]
  },
  {
   "cell_type": "code",
   "execution_count": 51,
   "id": "0c4ec9d7",
   "metadata": {},
   "outputs": [],
   "source": [
    "translation_matrix=n.array([[1,0,tx],[0,1,ty]])"
   ]
  },
  {
   "cell_type": "code",
   "execution_count": 52,
   "id": "de6cb556",
   "metadata": {},
   "outputs": [
    {
     "data": {
      "text/plain": [
       "-1"
      ]
     },
     "execution_count": 52,
     "metadata": {},
     "output_type": "execute_result"
    }
   ],
   "source": [
    "translate_image=cv2.warpAffine(src=image,M=translation_matrix,dsize=(width,height))\n",
    "cv2.imshow(\"orginal img\",image)\n",
    "cv2.waitKey(0)\n",
    "cv2.imshow(\"translated image\",translate_image)\n",
    "cv2.waitKey(0)"
   ]
  },
  {
   "cell_type": "code",
   "execution_count": null,
   "id": "add3ab28",
   "metadata": {},
   "outputs": [],
   "source": []
  }
 ],
 "metadata": {
  "kernelspec": {
   "display_name": "Python 3 (ipykernel)",
   "language": "python",
   "name": "python3"
  },
  "language_info": {
   "codemirror_mode": {
    "name": "ipython",
    "version": 3
   },
   "file_extension": ".py",
   "mimetype": "text/x-python",
   "name": "python",
   "nbconvert_exporter": "python",
   "pygments_lexer": "ipython3",
   "version": "3.9.13"
  }
 },
 "nbformat": 4,
 "nbformat_minor": 5
}
